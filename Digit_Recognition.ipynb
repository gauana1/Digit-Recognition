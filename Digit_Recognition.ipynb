{
 "cells": [
  {
   "cell_type": "code",
   "execution_count": 42,
   "id": "30f368f5-9dbe-43c1-bb61-565cc9f7d209",
   "metadata": {},
   "outputs": [
    {
     "name": "stdout",
     "output_type": "stream",
     "text": [
      "Epoch 1/7\n"
     ]
    },
    {
     "name": "stderr",
     "output_type": "stream",
     "text": [
      "2023-08-04 10:08:26.261869: I tensorflow/core/grappler/optimizers/custom_graph_optimizer_registry.cc:114] Plugin optimizer for device_type GPU is enabled.\n"
     ]
    },
    {
     "name": "stdout",
     "output_type": "stream",
     "text": [
      "1875/1875 [==============================] - 15s 8ms/step - loss: 0.1987 - accuracy: 0.9400\n",
      "Epoch 2/7\n",
      "1875/1875 [==============================] - 14s 8ms/step - loss: 0.0889 - accuracy: 0.9724\n",
      "Epoch 3/7\n",
      "1875/1875 [==============================] - 14s 8ms/step - loss: 0.0627 - accuracy: 0.9800\n",
      "Epoch 4/7\n",
      "1875/1875 [==============================] - 14s 8ms/step - loss: 0.0488 - accuracy: 0.9849\n",
      "Epoch 5/7\n",
      "1875/1875 [==============================] - 14s 8ms/step - loss: 0.0394 - accuracy: 0.9877\n",
      "Epoch 6/7\n",
      "1875/1875 [==============================] - 14s 8ms/step - loss: 0.0326 - accuracy: 0.9898\n",
      "Epoch 7/7\n",
      "1875/1875 [==============================] - 14s 8ms/step - loss: 0.0300 - accuracy: 0.9911\n",
      " 20/313 [>.............................] - ETA: 1s - loss: 0.0715 - accuracy: 0.9859   "
     ]
    },
    {
     "name": "stderr",
     "output_type": "stream",
     "text": [
      "2023-08-04 10:10:07.488552: I tensorflow/core/grappler/optimizers/custom_graph_optimizer_registry.cc:114] Plugin optimizer for device_type GPU is enabled.\n"
     ]
    },
    {
     "name": "stdout",
     "output_type": "stream",
     "text": [
      "313/313 [==============================] - 2s 5ms/step - loss: 0.0787 - accuracy: 0.9802\n"
     ]
    },
    {
     "data": {
      "text/plain": [
       "[0.07869933545589447, 0.9801999926567078]"
      ]
     },
     "execution_count": 42,
     "metadata": {},
     "output_type": "execute_result"
    }
   ],
   "source": [
    "import numpy as np\n",
    "import pandas as pd\n",
    "import sklearn\n",
    "import tensorflow as tf \n",
    "from tensorflow import keras\n",
    "from tensorflow.keras.layers import Flatten\n",
    "import matplotlib.pyplot as plt\n",
    "\n",
    "(x_train, y_train), (x_test, y_test) = keras.datasets.mnist.load_data()\n",
    "x_train = x_train/255\n",
    "x_test = x_test/255\n",
    "model = keras.Sequential([\n",
    "    Flatten(input_shape = (28,28)),\n",
    "    keras.layers.Dense(500, input_shape = (784,), activation = \"relu\") , \n",
    "    keras.layers.Dense(200, activation = \"relu\") , \n",
    "    keras.layers.Dense(150, activation = \"relu\") , \n",
    "    keras.layers.Dense(10,activation = \"sigmoid\")\n",
    "])\n",
    "model.compile(\n",
    "    optimizer = \"adam\",\n",
    "    loss  = \"sparse_categorical_crossentropy\", \n",
    "    metrics = ['accuracy']\n",
    ")\n",
    "model.fit(x_train, y_train, epochs = 7)\n",
    "\n",
    "model.evaluate(x_test, y_test)\n",
    "\n"
   ]
  },
  {
   "cell_type": "code",
   "execution_count": 43,
   "id": "998e1a07-5381-4ee3-b4b2-c683013ae03f",
   "metadata": {},
   "outputs": [
    {
     "name": "stdout",
     "output_type": "stream",
     "text": [
      " 61/313 [====>.........................] - ETA: 0s"
     ]
    },
    {
     "name": "stderr",
     "output_type": "stream",
     "text": [
      "2023-08-04 10:10:11.332369: I tensorflow/core/grappler/optimizers/custom_graph_optimizer_registry.cc:114] Plugin optimizer for device_type GPU is enabled.\n"
     ]
    },
    {
     "name": "stdout",
     "output_type": "stream",
     "text": [
      "313/313 [==============================] - 1s 3ms/step\n"
     ]
    },
    {
     "data": {
      "text/plain": [
       "<tf.Tensor: shape=(10, 10), dtype=int32, numpy=\n",
       "array([[ 971,    0,    1,    1,    1,    0,    2,    0,    0,    4],\n",
       "       [   1, 1126,    4,    0,    0,    0,    1,    0,    3,    0],\n",
       "       [   3,    1, 1016,    4,    1,    0,    0,    2,    3,    2],\n",
       "       [   0,    0,    8,  987,    0,    3,    0,    6,    3,    3],\n",
       "       [   1,    0,    1,    0,  970,    0,    1,    1,    0,    8],\n",
       "       [   4,    2,    0,   15,    1,  860,    3,    0,    3,    4],\n",
       "       [   2,    2,    1,    0,    4,    5,  939,    0,    5,    0],\n",
       "       [   1,    5,    7,    3,    6,    0,    0,  992,    5,    9],\n",
       "       [   2,    1,    5,    1,    3,    2,    1,    3,  953,    3],\n",
       "       [   0,    2,    1,    0,    9,    0,    0,    2,    7,  988]],\n",
       "      dtype=int32)>"
      ]
     },
     "execution_count": 43,
     "metadata": {},
     "output_type": "execute_result"
    }
   ],
   "source": [
    "y_predicted = model.predict(x_test_flat)\n",
    "\n",
    "y_predicted_lab = [np.argmax(i) for i in y_predicted]\n",
    "cm = tf.math.confusion_matrix(labels = y_test, predictions = y_predicted_lab)\n",
    "cm"
   ]
  },
  {
   "cell_type": "code",
   "execution_count": 44,
   "id": "674b4d03-21a8-4491-a30a-c70cad9ffccc",
   "metadata": {},
   "outputs": [
    {
     "name": "stdout",
     "output_type": "stream",
     "text": [
      "Running on local URL:  http://127.0.0.1:7877\n",
      "\n",
      "To create a public link, set `share=True` in `launch()`.\n"
     ]
    },
    {
     "data": {
      "text/html": [
       "<div><iframe src=\"http://127.0.0.1:7877/\" width=\"100%\" height=\"500\" allow=\"autoplay; camera; microphone; clipboard-read; clipboard-write;\" frameborder=\"0\" allowfullscreen></iframe></div>"
      ],
      "text/plain": [
       "<IPython.core.display.HTML object>"
      ]
     },
     "metadata": {},
     "output_type": "display_data"
    },
    {
     "data": {
      "text/plain": []
     },
     "execution_count": 44,
     "metadata": {},
     "output_type": "execute_result"
    },
    {
     "name": "stdout",
     "output_type": "stream",
     "text": [
      "1/1 [==============================] - 0s 106ms/step\n",
      "[[2.4882380e-03 3.4787849e-01 5.8313262e-01 9.9817920e-01 6.3438374e-03\n",
      "  8.1604468e-03 5.4560910e-04 1.7634419e-01 7.4834526e-01 3.7705991e-03]]\n",
      "1/1 [==============================] - 0s 20ms/step\n",
      "[[0.6865834  0.2765511  0.7611436  0.04871155 0.4510787  0.30197102\n",
      "  0.99484044 0.00492074 0.99144393 0.0019836 ]]\n",
      "1/1 [==============================] - 0s 19ms/step\n",
      "[[1.61992028e-01 1.04876369e-01 1.10686824e-01 2.40899250e-01\n",
      "  3.43091786e-03 4.55190033e-01 6.98864341e-01 3.84727551e-04\n",
      "  9.99997258e-01 6.45183632e-03]]\n",
      "1/1 [==============================] - 0s 19ms/step\n",
      "[[9.8093134e-01 9.4449764e-01 1.4741054e-02 8.8396599e-04 5.2184518e-02\n",
      "  3.9834872e-01 9.8462451e-01 1.0439117e-04 9.9988317e-01 1.8202266e-02]]\n",
      "1/1 [==============================] - 0s 21ms/step\n",
      "[[9.9874520e-01 9.2714411e-01 1.9473203e-02 2.6152207e-05 6.5501541e-02\n",
      "  7.2769541e-01 9.9999952e-01 8.8965508e-06 9.8424178e-01 3.6141209e-05]]\n",
      "1/1 [==============================] - 0s 20ms/step\n",
      "[[7.1556656e-06 1.0000000e+00 6.4640720e-03 2.8177633e-04 2.2077477e-02\n",
      "  2.2735942e-06 7.2144112e-03 9.7249381e-02 4.2851487e-01 2.5257778e-03]]\n",
      "1/1 [==============================] - 0s 19ms/step\n",
      "[[4.4409309e-02 9.4974321e-01 1.7089931e-02 1.4715445e-02 9.8140693e-01\n",
      "  5.2974629e-04 1.9227730e-02 9.6451104e-01 3.6192518e-03 8.9789814e-01]]\n",
      "1/1 [==============================] - 0s 19ms/step\n",
      "[[4.4409309e-02 9.4974321e-01 1.7089931e-02 1.4715445e-02 9.8140693e-01\n",
      "  5.2974629e-04 1.9227730e-02 9.6451104e-01 3.6192518e-03 8.9789814e-01]]\n",
      "1/1 [==============================] - 0s 19ms/step\n",
      "[[5.5347796e-04 8.1504983e-01 9.9892896e-01 9.7938019e-01 7.5757751e-05\n",
      "  1.7928326e-03 3.1326505e-04 1.1434324e-01 2.5191647e-03 2.1210145e-03]]\n",
      "1/1 [==============================] - 0s 17ms/step\n",
      "[[1.0554035e-01 8.3209015e-02 9.9999797e-01 6.9884644e-03 4.4082117e-05\n",
      "  1.9687792e-05 9.8179126e-01 1.1209859e-04 2.7010390e-01 5.8844076e-08]]\n",
      "1/1 [==============================] - 0s 20ms/step\n",
      "[[2.8443793e-03 1.7261897e-01 9.6352673e-01 9.9997139e-01 2.0178671e-03\n",
      "  2.2284737e-02 7.0840953e-04 1.3817770e-02 9.1032794e-04 1.0797458e-04]]\n",
      "1/1 [==============================] - 0s 18ms/step\n",
      "[[6.9070340e-04 6.8748987e-01 1.0438547e-03 9.0946334e-05 9.9999988e-01\n",
      "  3.6256589e-04 9.8156124e-01 4.7700203e-05 3.1674492e-01 2.2977074e-03]]\n",
      "1/1 [==============================] - 0s 19ms/step\n",
      "[[1.3293182e-03 1.0623823e-01 1.1564234e-03 5.2147788e-01 2.8853960e-04\n",
      "  9.9993575e-01 9.1573071e-01 3.2764145e-03 4.7217914e-01 8.0844411e-06]]\n",
      "1/1 [==============================] - 0s 17ms/step\n",
      "[[4.9060145e-01 2.5734982e-01 4.8810996e-02 2.1898851e-04 1.9937505e-01\n",
      "  9.2719924e-01 9.9999809e-01 1.4536102e-05 9.8147613e-01 3.8669107e-04]]\n",
      "1/1 [==============================] - 0s 19ms/step\n",
      "[[2.9860806e-07 2.5697514e-01 4.6822440e-02 5.8864267e-03 4.3673828e-01\n",
      "  1.0457021e-09 4.8927473e-10 1.0000000e+00 9.2170867e-06 2.2201346e-01]]\n",
      "1/1 [==============================] - 0s 18ms/step\n",
      "[[0.57683724 0.30174375 0.88297606 0.24332559 0.32759178 0.05933307\n",
      "  0.8069624  0.00691842 0.9997253  0.01017741]]\n",
      "1/1 [==============================] - 0s 19ms/step\n",
      "[[1.3491859e-02 2.0640337e-01 6.1367629e-03 5.6187367e-01 8.8559639e-01\n",
      "  3.2596141e-02 2.0878234e-04 4.1861121e-02 8.2039183e-01 9.6931386e-01]]\n",
      "1/1 [==============================] - 0s 19ms/step\n",
      "[[9.99089956e-01 1.28661050e-05 8.98689151e-01 8.70360145e-06\n",
      "  2.43983008e-02 1.10919231e-07 1.32574205e-05 1.10510120e-03\n",
      "  7.13967194e-04 9.99907494e-01]]\n",
      "1/1 [==============================] - 0s 20ms/step\n",
      "[[9.9999976e-01 1.2868487e-07 4.4107851e-02 1.9600941e-08 3.2958556e-02\n",
      "  5.1017301e-11 3.1097829e-07 7.9347765e-06 4.7759739e-05 9.9999869e-01]]\n"
     ]
    }
   ],
   "source": [
    "import gradio as gr\n",
    "\n",
    "def predict(sketch):\n",
    "    sketch = sketch.reshape(-1,28,28)\n",
    "    sketch = sketch / 255.0\n",
    "    \n",
    "    y = model.predict(sketch)\n",
    "    print(y)\n",
    "    return np.argmax(y).item()\n",
    "\n",
    "gr.Interface(fn=predict, inputs=\"sketchpad\", outputs=\"label\").launch()"
   ]
  },
  {
   "cell_type": "code",
   "execution_count": null,
   "id": "95184fd8-2f2e-46df-a178-f6ea9b602e96",
   "metadata": {},
   "outputs": [],
   "source": []
  }
 ],
 "metadata": {
  "kernelspec": {
   "display_name": "Python 3 (ipykernel)",
   "language": "python",
   "name": "python3"
  },
  "language_info": {
   "codemirror_mode": {
    "name": "ipython",
    "version": 3
   },
   "file_extension": ".py",
   "mimetype": "text/x-python",
   "name": "python",
   "nbconvert_exporter": "python",
   "pygments_lexer": "ipython3",
   "version": "3.8.17"
  }
 },
 "nbformat": 4,
 "nbformat_minor": 5
}
